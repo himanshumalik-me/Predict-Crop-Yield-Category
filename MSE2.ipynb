{
  "nbformat": 4,
  "nbformat_minor": 0,
  "metadata": {
    "colab": {
      "provenance": []
    },
    "kernelspec": {
      "name": "python3",
      "display_name": "Python 3"
    },
    "language_info": {
      "name": "python"
    }
  },
  "cells": [
    {
      "cell_type": "code",
      "execution_count": 8,
      "metadata": {
        "colab": {
          "base_uri": "https://localhost:8080/",
          "height": 910
        },
        "id": "JJ2wD2ekrQij",
        "outputId": "0a9d2f10-b436-4010-caa4-97dd7b360776"
      },
      "outputs": [
        {
          "output_type": "stream",
          "name": "stdout",
          "text": [
            "\n",
            "🧪 Performing Classification: Crop Yield Prediction\n",
            "\n",
            "📊 Evaluation Metrics:\n",
            "Accuracy:  0.33\n",
            "Precision: 0.33\n",
            "Recall:    0.33\n",
            "\n",
            "📋 Classification Report:\n",
            "              precision    recall  f1-score   support\n",
            "\n",
            "        High       0.30      0.30      0.30        10\n",
            "         Low       0.32      0.35      0.33        17\n",
            "      Medium       0.36      0.31      0.33        13\n",
            "\n",
            "    accuracy                           0.33        40\n",
            "   macro avg       0.33      0.32      0.32        40\n",
            "weighted avg       0.33      0.33      0.33        40\n",
            "\n"
          ]
        },
        {
          "output_type": "display_data",
          "data": {
            "text/plain": [
              "<Figure size 600x400 with 2 Axes>"
            ],
            "image/png": "[encoded data removed]"
          },
          "metadata": {}
        },
        {
          "output_type": "stream",
          "name": "stdout",
          "text": [
            "\n",
            "🌾 Enter Soil, Rainfall, and Seed Type to Predict Yield:\n",
            "Soil pH (e.g., 6.5): 7.4\n",
            "Nitrogen content (e.g., 60): 72\n",
            "Rainfall (mm) (e.g., 700): 834\n",
            "Seed Type (Hybrid/Traditional): Hybrid\n",
            "\n",
            "✅ Predicted Crop Yield Category: Medium\n"
          ]
        },
        {
          "output_type": "stream",
          "name": "stderr",
          "text": [
            "/usr/local/lib/python3.11/dist-packages/sklearn/utils/validation.py:2739: UserWarning: X does not have valid feature names, but RandomForestClassifier was fitted with feature names\n",
            "  warnings.warn(\n"
          ]
        }
      ],
      "source": [
        "import pandas as pd\n",
        "import numpy as np\n",
        "import matplotlib.pyplot as plt\n",
        "import seaborn as sns\n",
        "\n",
        "from sklearn.model_selection import train_test_split\n",
        "from sklearn.ensemble import RandomForestClassifier\n",
        "from sklearn.preprocessing import LabelEncoder\n",
        "from sklearn.metrics import (\n",
        "    confusion_matrix, classification_report,\n",
        "    accuracy_score, precision_score, recall_score\n",
        ")\n",
        "\n",
        "# === 1. Create Sample Dataset (or load from CSV) ===\n",
        "data = {\n",
        "    'Soil_pH': np.random.uniform(5.5, 8.5, 200),\n",
        "    'Nitrogen': np.random.randint(10, 100, 200),\n",
        "    'Rainfall': np.random.uniform(200, 1200, 200),\n",
        "    'Seed_Type': np.random.choice(['Hybrid', 'Traditional'], 200),\n",
        "    'Yield_Category': np.random.choice(['Low', 'Medium', 'High'], 200)\n",
        "}\n",
        "df = pd.DataFrame(data)\n",
        "\n",
        "# === 2. Encode Categorical Variables ===\n",
        "le_seed = LabelEncoder()\n",
        "df['Seed_Type'] = le_seed.fit_transform(df['Seed_Type'])  # Hybrid=0, Traditional=1\n",
        "\n",
        "le_yield = LabelEncoder()\n",
        "df['Yield_Category'] = le_yield.fit_transform(df['Yield_Category'])  # Low=0, Medium=1, High=2\n",
        "\n",
        "# === 3. Classification Problem ===\n",
        "print(\"\\n🧪 Performing Classification: Crop Yield Prediction\")\n",
        "X = df.drop('Yield_Category', axis=1)\n",
        "y = df['Yield_Category']\n",
        "\n",
        "# Split Data\n",
        "X_train, X_test, y_train, y_test = train_test_split(X, y, test_size=0.2, random_state=42)\n",
        "\n",
        "# Train Model\n",
        "model = RandomForestClassifier(n_estimators=100, random_state=42)\n",
        "model.fit(X_train, y_train)\n",
        "\n",
        "# Predict\n",
        "y_pred = model.predict(X_test)\n",
        "\n",
        "# === 4. Evaluation Metrics ===\n",
        "accuracy = accuracy_score(y_test, y_pred)\n",
        "precision = precision_score(y_test, y_pred, average='weighted')\n",
        "recall = recall_score(y_test, y_pred, average='weighted')\n",
        "\n",
        "print(\"\\n📊 Evaluation Metrics:\")\n",
        "print(f\"Accuracy:  {accuracy:.2f}\")\n",
        "print(f\"Precision: {precision:.2f}\")\n",
        "print(f\"Recall:    {recall:.2f}\")\n",
        "\n",
        "# Classification Report\n",
        "print(\"\\n📋 Classification Report:\")\n",
        "print(classification_report(y_test, y_pred, target_names=le_yield.classes_))\n",
        "\n",
        "# === 5. Confusion Matrix Heatmap ===\n",
        "cm = confusion_matrix(y_test, y_pred)\n",
        "plt.figure(figsize=(6, 4))\n",
        "sns.heatmap(cm, annot=True, fmt='d', cmap='coolwarm',\n",
        "            xticklabels=le_yield.classes_,\n",
        "            yticklabels=le_yield.classes_)\n",
        "plt.title('Confusion Matrix Heatmap')\n",
        "plt.xlabel('Predicted')\n",
        "plt.ylabel('Actual')\n",
        "plt.tight_layout()\n",
        "plt.show()\n",
        "\n",
        "# === 6. User Input Prediction ===\n",
        "print(\"\\n🌾 Enter Soil, Rainfall, and Seed Type to Predict Yield:\")\n",
        "\n",
        "try:\n",
        "    soil_ph = float(input(\"Soil pH (e.g., 6.5): \"))\n",
        "    nitrogen = int(input(\"Nitrogen content (e.g., 60): \"))\n",
        "    rainfall = float(input(\"Rainfall (mm) (e.g., 700): \"))\n",
        "    seed_type_str = input(\"Seed Type (Hybrid/Traditional): \").capitalize()\n",
        "\n",
        "    if seed_type_str not in le_seed.classes_:\n",
        "        raise ValueError(\"Invalid Seed Type\")\n",
        "\n",
        "    seed_type = le_seed.transform([seed_type_str])[0]\n",
        "\n",
        "    user_data = np.array([[soil_ph, nitrogen, rainfall, seed_type]])\n",
        "    user_prediction = model.predict(user_data)\n",
        "    yield_label = le_yield.inverse_transform(user_prediction)[0]\n",
        "\n",
        "    print(f\"\\n✅ Predicted Crop Yield Category: {yield_label}\")\n",
        "except Exception as e:\n",
        "    print(f\"\\n⚠️ Error: {e}\")\n"
      ]
    }
  ]
}